{
 "cells": [
  {
   "cell_type": "code",
   "execution_count": 1,
   "id": "ed5d7a0d",
   "metadata": {},
   "outputs": [
    {
     "name": "stdout",
     "output_type": "stream",
     "text": [
      "Paths updated successfully.\n"
     ]
    }
   ],
   "source": [
    "import os\n",
    "\n",
    "def update_paths(file_path, base_path):\n",
    "    # Read the file content\n",
    "    with open(file_path, 'r') as file:\n",
    "        lines = file.readlines()\n",
    "    \n",
    "    # Update the paths to absolute paths\n",
    "    updated_lines = [os.path.join(base_path, os.path.basename(line.strip())).replace(\"\\\\\", \"/\") + '\\n' for line in lines]\n",
    "    \n",
    "    # Write the updated paths back to the file\n",
    "    with open(file_path, 'w') as file:\n",
    "        file.writelines(updated_lines)\n",
    "\n",
    "# Full paths to the train.txt and val.txt files\n",
    "train_file_path = \"D:/Users HP/Downloads/yolo/obj_train_data/train.txt\"\n",
    "val_file_path = \"D:/Users HP/Downloads/yolo/obj_train_data/val.txt\"\n",
    "base_path = \"D:/Users HP/Downloads/yolo/obj_train_data\"\n",
    "\n",
    "# Update train.txt and val.txt with correct paths\n",
    "update_paths(train_file_path, base_path)\n",
    "update_paths(val_file_path, base_path)\n",
    "\n",
    "print(\"Paths updated successfully.\")\n"
   ]
  },
  {
   "cell_type": "code",
   "execution_count": null,
   "id": "4cb3ed34",
   "metadata": {},
   "outputs": [],
   "source": [
    "!python train.py --img 640 --batch 16 --epochs 50 --data \"D:/Users HP/Downloads/yolo/obj.data\" --cfg models/yolov5s.yaml --weights yolov5s.pt --name yolov5_traffic_monitoring"
   ]
  },
  {
   "cell_type": "code",
   "execution_count": null,
   "id": "aa365353",
   "metadata": {},
   "outputs": [],
   "source": []
  }
 ],
 "metadata": {
  "kernelspec": {
   "display_name": "Python 3 (ipykernel)",
   "language": "python",
   "name": "python3"
  },
  "language_info": {
   "codemirror_mode": {
    "name": "ipython",
    "version": 3
   },
   "file_extension": ".py",
   "mimetype": "text/x-python",
   "name": "python",
   "nbconvert_exporter": "python",
   "pygments_lexer": "ipython3",
   "version": "3.9.13"
  }
 },
 "nbformat": 4,
 "nbformat_minor": 5
}
