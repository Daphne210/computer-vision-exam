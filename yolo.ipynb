{
 "cells": [
  {
   "cell_type": "code",
   "execution_count": 1,
   "id": "ed5d7a0d",
   "metadata": {},
   "outputs": [
    {
     "name": "stdout",
     "output_type": "stream",
     "text": [
      "Data split and organized successfully!\n"
     ]
    }
   ],
   "source": [
    "import os\n",
    "import random\n",
    "import shutil\n",
    "\n",
    "# Paths\n",
    "dataset_path = 'D:/Users HP/Downloads/yolo/obj_train_data'\n",
    "output_path = 'C:/Users/HP/Zoomcamp/yolov5/dataset'\n",
    "images_path = os.path.join(output_path, 'images')\n",
    "labels_path = os.path.join(output_path, 'labels')\n",
    "\n",
    "# Create directories\n",
    "os.makedirs(os.path.join(images_path, 'train'), exist_ok=True)\n",
    "os.makedirs(os.path.join(images_path, 'val'), exist_ok=True)\n",
    "os.makedirs(os.path.join(images_path, 'test'), exist_ok=True)\n",
    "os.makedirs(os.path.join(labels_path, 'train'), exist_ok=True)\n",
    "os.makedirs(os.path.join(labels_path, 'val'), exist_ok=True)\n",
    "os.makedirs(os.path.join(labels_path, 'test'), exist_ok=True)\n",
    "\n",
    "# Split ratios\n",
    "train_ratio = 0.7\n",
    "val_ratio = 0.15\n",
    "test_ratio = 0.15\n",
    "\n",
    "# Get all image files\n",
    "image_files = [f for f in os.listdir(dataset_path) if f.endswith('.jpg') or f.endswith('.png')]\n",
    "\n",
    "# Shuffle image files\n",
    "random.shuffle(image_files)\n",
    "\n",
    "# Calculate split indices\n",
    "train_idx = int(len(image_files) * train_ratio)\n",
    "val_idx = int(len(image_files) * (train_ratio + val_ratio))\n",
    "\n",
    "# Split the data\n",
    "train_files = image_files[:train_idx]\n",
    "val_files = image_files[train_idx:val_idx]\n",
    "test_files = image_files[val_idx:]\n",
    "\n",
    "def move_files(file_list, split_type):\n",
    "    for file_name in file_list:\n",
    "        # Move image file\n",
    "        src_img = os.path.join(dataset_path, file_name)\n",
    "        dst_img = os.path.join(images_path, split_type, file_name)\n",
    "        shutil.copyfile(src_img, dst_img)\n",
    "        \n",
    "        # Move label file\n",
    "        label_name = file_name.replace('.jpg', '.txt').replace('.png', '.txt')\n",
    "        src_label = os.path.join(dataset_path, label_name)\n",
    "        dst_label = os.path.join(labels_path, split_type, label_name)\n",
    "        if os.path.exists(src_label):\n",
    "            shutil.copyfile(src_label, dst_label)\n",
    "\n",
    "# Move files to respective directories\n",
    "move_files(train_files, 'train')\n",
    "move_files(val_files, 'val')\n",
    "move_files(test_files, 'test')\n",
    "\n",
    "print(\"Data split and organized successfully!\")"
   ]
  },
  {
   "cell_type": "code",
   "execution_count": 6,
   "id": "96275e28",
   "metadata": {},
   "outputs": [
    {
     "name": "stdout",
     "output_type": "stream",
     "text": [
      "Data file path: C:/Users/HP/Zoomcamp/yolov5/data\n"
     ]
    },
    {
     "ename": "PermissionError",
     "evalue": "[Errno 13] Permission denied: 'C:/Users/HP/Zoomcamp/yolov5/data'",
     "output_type": "error",
     "traceback": [
      "\u001b[1;31m---------------------------------------------------------------------------\u001b[0m",
      "\u001b[1;31mPermissionError\u001b[0m                           Traceback (most recent call last)",
      "Cell \u001b[1;32mIn[6], line 2\u001b[0m\n\u001b[0;32m      1\u001b[0m \u001b[38;5;28mprint\u001b[39m(\u001b[38;5;124m\"\u001b[39m\u001b[38;5;124mData file path:\u001b[39m\u001b[38;5;124m\"\u001b[39m, \u001b[38;5;124m'\u001b[39m\u001b[38;5;124mC:/Users/HP/Zoomcamp/yolov5/data\u001b[39m\u001b[38;5;124m'\u001b[39m)\n\u001b[1;32m----> 2\u001b[0m \u001b[38;5;28mprint\u001b[39m(\u001b[38;5;124m\"\u001b[39m\u001b[38;5;124mData content:\u001b[39m\u001b[38;5;124m\"\u001b[39m, \u001b[38;5;28;43mopen\u001b[39;49m\u001b[43m(\u001b[49m\u001b[38;5;124;43m'\u001b[39;49m\u001b[38;5;124;43mC:/Users/HP/Zoomcamp/yolov5/data\u001b[39;49m\u001b[38;5;124;43m'\u001b[39;49m\u001b[43m)\u001b[49m\u001b[38;5;241m.\u001b[39mread())\n",
      "File \u001b[1;32m~\\AppData\\Roaming\\Python\\Python39\\site-packages\\IPython\\core\\interactiveshell.py:286\u001b[0m, in \u001b[0;36m_modified_open\u001b[1;34m(file, *args, **kwargs)\u001b[0m\n\u001b[0;32m    279\u001b[0m \u001b[38;5;28;01mif\u001b[39;00m file \u001b[38;5;129;01min\u001b[39;00m {\u001b[38;5;241m0\u001b[39m, \u001b[38;5;241m1\u001b[39m, \u001b[38;5;241m2\u001b[39m}:\n\u001b[0;32m    280\u001b[0m     \u001b[38;5;28;01mraise\u001b[39;00m \u001b[38;5;167;01mValueError\u001b[39;00m(\n\u001b[0;32m    281\u001b[0m         \u001b[38;5;124mf\u001b[39m\u001b[38;5;124m\"\u001b[39m\u001b[38;5;124mIPython won\u001b[39m\u001b[38;5;124m'\u001b[39m\u001b[38;5;124mt let you open fd=\u001b[39m\u001b[38;5;132;01m{\u001b[39;00mfile\u001b[38;5;132;01m}\u001b[39;00m\u001b[38;5;124m by default \u001b[39m\u001b[38;5;124m\"\u001b[39m\n\u001b[0;32m    282\u001b[0m         \u001b[38;5;124m\"\u001b[39m\u001b[38;5;124mas it is likely to crash IPython. If you know what you are doing, \u001b[39m\u001b[38;5;124m\"\u001b[39m\n\u001b[0;32m    283\u001b[0m         \u001b[38;5;124m\"\u001b[39m\u001b[38;5;124myou can use builtins\u001b[39m\u001b[38;5;124m'\u001b[39m\u001b[38;5;124m open.\u001b[39m\u001b[38;5;124m\"\u001b[39m\n\u001b[0;32m    284\u001b[0m     )\n\u001b[1;32m--> 286\u001b[0m \u001b[38;5;28;01mreturn\u001b[39;00m io_open(file, \u001b[38;5;241m*\u001b[39margs, \u001b[38;5;241m*\u001b[39m\u001b[38;5;241m*\u001b[39mkwargs)\n",
      "\u001b[1;31mPermissionError\u001b[0m: [Errno 13] Permission denied: 'C:/Users/HP/Zoomcamp/yolov5/data'"
     ]
    }
   ],
   "source": [
    "print(\"Data file path:\", 'C:/Users/HP/Zoomcamp/yolov5/data')\n",
    "print(\"Data content:\", open('C:/Users/HP/Zoomcamp/yolov5/data').read())"
   ]
  },
  {
   "cell_type": "code",
   "execution_count": null,
   "id": "4cb3ed34",
   "metadata": {},
   "outputs": [],
   "source": [
    "!python train.py --img 640 --batch 16 --epochs 50 --data \"D:/Users HP/Downloads/yolo/obj.data\" --cfg models/yolov5s.yaml --weights yolov5s.pt --name yolov5_traffic_monitoring"
   ]
  },
  {
   "cell_type": "code",
   "execution_count": null,
   "id": "aa365353",
   "metadata": {},
   "outputs": [],
   "source": []
  }
 ],
 "metadata": {
  "kernelspec": {
   "display_name": "Python 3 (ipykernel)",
   "language": "python",
   "name": "python3"
  },
  "language_info": {
   "codemirror_mode": {
    "name": "ipython",
    "version": 3
   },
   "file_extension": ".py",
   "mimetype": "text/x-python",
   "name": "python",
   "nbconvert_exporter": "python",
   "pygments_lexer": "ipython3",
   "version": "3.9.13"
  }
 },
 "nbformat": 4,
 "nbformat_minor": 5
}
